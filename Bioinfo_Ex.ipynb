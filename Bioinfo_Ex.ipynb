{
  "nbformat": 4,
  "nbformat_minor": 0,
  "metadata": {
    "colab": {
      "provenance": [],
      "authorship_tag": "ABX9TyOaiYjNxzAd2+gvDa84JS0d",
      "include_colab_link": true
    },
    "kernelspec": {
      "name": "python3",
      "display_name": "Python 3"
    },
    "language_info": {
      "name": "python"
    }
  },
  "cells": [
    {
      "cell_type": "markdown",
      "metadata": {
        "id": "view-in-github",
        "colab_type": "text"
      },
      "source": [
        "<a href=\"https://colab.research.google.com/github/LentoJ/Python-for-Bioinfo-Exercises/blob/main/Bioinfo_Ex.ipynb\" target=\"_parent\"><img src=\"https://colab.research.google.com/assets/colab-badge.svg\" alt=\"Open In Colab\"/></a>"
      ]
    },
    {
      "cell_type": "code",
      "execution_count": null,
      "metadata": {
        "colab": {
          "base_uri": "https://localhost:8080/"
        },
        "id": "2HLavJ_1kqpo",
        "outputId": "79237503-1a85-4e82-efb4-3483a8e7a035"
      },
      "outputs": [
        {
          "output_type": "stream",
          "name": "stdout",
          "text": [
            "12 <class 'str'>\n"
          ]
        }
      ],
      "source": [
        "value_a = '12'\n",
        "print(value_a, type(value_a))"
      ]
    },
    {
      "cell_type": "code",
      "source": [
        "value_b = int(value_a)\n",
        "print(value_b, type(value_b))"
      ],
      "metadata": {
        "colab": {
          "base_uri": "https://localhost:8080/"
        },
        "id": "t7D2s6BNk3jH",
        "outputId": "68c5cec2-d2ae-4052-fb0d-2bed6c8de659"
      },
      "execution_count": null,
      "outputs": [
        {
          "output_type": "stream",
          "name": "stdout",
          "text": [
            "12 <class 'int'>\n"
          ]
        }
      ]
    },
    {
      "cell_type": "code",
      "source": [
        "print(type(35-3.0))"
      ],
      "metadata": {
        "colab": {
          "base_uri": "https://localhost:8080/"
        },
        "id": "JTNaTLmBlAjY",
        "outputId": "80e13122-dd15-4c23-fcc2-df5431f2e755"
      },
      "execution_count": null,
      "outputs": [
        {
          "output_type": "stream",
          "name": "stdout",
          "text": [
            "<class 'float'>\n"
          ]
        }
      ]
    },
    {
      "cell_type": "code",
      "source": [
        "print(type(35-3))"
      ],
      "metadata": {
        "colab": {
          "base_uri": "https://localhost:8080/"
        },
        "id": "_gJidQDWpPDI",
        "outputId": "7b4f16eb-c967-495d-ed7d-cb1f5aa1b501"
      },
      "execution_count": null,
      "outputs": [
        {
          "output_type": "stream",
          "name": "stdout",
          "text": [
            "<class 'int'>\n"
          ]
        }
      ]
    },
    {
      "cell_type": "code",
      "source": [
        "len(str(35))"
      ],
      "metadata": {
        "colab": {
          "base_uri": "https://localhost:8080/"
        },
        "id": "c5Zcn1-ApRHo",
        "outputId": "31d92811-f7c0-4a67-f2cb-18f04a0fc8d8"
      },
      "execution_count": null,
      "outputs": [
        {
          "output_type": "execute_result",
          "data": {
            "text/plain": [
              "2"
            ]
          },
          "metadata": {},
          "execution_count": 7
        }
      ]
    },
    {
      "cell_type": "code",
      "source": [
        "len(str(2**1000))"
      ],
      "metadata": {
        "colab": {
          "base_uri": "https://localhost:8080/"
        },
        "id": "E6T54WUSsl8o",
        "outputId": "71fa6092-3bd8-4e7e-bc9d-e16081621a5c"
      },
      "execution_count": null,
      "outputs": [
        {
          "output_type": "execute_result",
          "data": {
            "text/plain": [
              "302"
            ]
          },
          "metadata": {},
          "execution_count": 8
        }
      ]
    },
    {
      "cell_type": "code",
      "source": [
        "print(7%2)"
      ],
      "metadata": {
        "colab": {
          "base_uri": "https://localhost:8080/"
        },
        "id": "s28_QPgKstpY",
        "outputId": "10061918-d998-4696-8b9f-c1678a64da3f"
      },
      "execution_count": null,
      "outputs": [
        {
          "output_type": "stream",
          "name": "stdout",
          "text": [
            "1\n"
          ]
        }
      ]
    },
    {
      "cell_type": "code",
      "source": [
        "pi = pi/(3%2-1)\n",
        "print(pi)"
      ],
      "metadata": {
        "colab": {
          "base_uri": "https://localhost:8080/",
          "height": 194
        },
        "id": "xLzQZnKatOZn",
        "outputId": "590967cb-6c09-41a2-ca3f-164a2b17ae3e"
      },
      "execution_count": null,
      "outputs": [
        {
          "output_type": "error",
          "ename": "NameError",
          "evalue": "name 'pi' is not defined",
          "traceback": [
            "\u001b[0;31m---------------------------------------------------------------------------\u001b[0m",
            "\u001b[0;31mNameError\u001b[0m                                 Traceback (most recent call last)",
            "\u001b[0;32m<ipython-input-11-e7015e7c33ab>\u001b[0m in \u001b[0;36m<cell line: 1>\u001b[0;34m()\u001b[0m\n\u001b[0;32m----> 1\u001b[0;31m \u001b[0mpi\u001b[0m \u001b[0;34m=\u001b[0m \u001b[0mpi\u001b[0m\u001b[0;34m/\u001b[0m\u001b[0;34m(\u001b[0m\u001b[0;36m3\u001b[0m\u001b[0;34m%\u001b[0m\u001b[0;36m2\u001b[0m\u001b[0;34m-\u001b[0m\u001b[0;36m1\u001b[0m\u001b[0;34m)\u001b[0m\u001b[0;34m\u001b[0m\u001b[0;34m\u001b[0m\u001b[0m\n\u001b[0m\u001b[1;32m      2\u001b[0m \u001b[0mprint\u001b[0m\u001b[0;34m(\u001b[0m\u001b[0mpi\u001b[0m\u001b[0;34m)\u001b[0m\u001b[0;34m\u001b[0m\u001b[0;34m\u001b[0m\u001b[0m\n",
            "\u001b[0;31mNameError\u001b[0m: name 'pi' is not defined"
          ]
        }
      ]
    },
    {
      "cell_type": "code",
      "source": [
        "print(3*2/4)"
      ],
      "metadata": {
        "colab": {
          "base_uri": "https://localhost:8080/"
        },
        "id": "MfrDINUZtda3",
        "outputId": "b1084697-2860-4260-f7fe-c6a3f019f203"
      },
      "execution_count": null,
      "outputs": [
        {
          "output_type": "stream",
          "name": "stdout",
          "text": [
            "1.5\n"
          ]
        }
      ]
    },
    {
      "cell_type": "code",
      "source": [
        "print(5+3*2/4)"
      ],
      "metadata": {
        "colab": {
          "base_uri": "https://localhost:8080/"
        },
        "id": "UtG4LunLuRL4",
        "outputId": "5b103a85-c0c9-43b2-ebb3-b93d4ea26463"
      },
      "execution_count": null,
      "outputs": [
        {
          "output_type": "stream",
          "name": "stdout",
          "text": [
            "6.5\n"
          ]
        }
      ]
    },
    {
      "cell_type": "code",
      "source": [
        "print(3*2/4+5)"
      ],
      "metadata": {
        "colab": {
          "base_uri": "https://localhost:8080/"
        },
        "id": "eERzWctouUDo",
        "outputId": "dd4a945c-d3a2-4d92-e63e-54394224b128"
      },
      "execution_count": null,
      "outputs": [
        {
          "output_type": "stream",
          "name": "stdout",
          "text": [
            "6.5\n"
          ]
        }
      ]
    },
    {
      "cell_type": "code",
      "source": [
        "print('Jone Doe''\\n''rocks')"
      ],
      "metadata": {
        "colab": {
          "base_uri": "https://localhost:8080/"
        },
        "id": "NH-oOKM2uXiH",
        "outputId": "1c2b483c-6466-428b-c542-014ae1862cd4"
      },
      "execution_count": null,
      "outputs": [
        {
          "output_type": "stream",
          "name": "stdout",
          "text": [
            "Jone Doe\n",
            "rocks\n"
          ]
        }
      ]
    },
    {
      "cell_type": "code",
      "source": [
        "a = True\n",
        "b = False\n",
        "not b < a < 20"
      ],
      "metadata": {
        "colab": {
          "base_uri": "https://localhost:8080/"
        },
        "id": "9EIPtqWlvLXs",
        "outputId": "60c98059-36d4-40ba-9223-af4fac0823c7"
      },
      "execution_count": null,
      "outputs": [
        {
          "output_type": "execute_result",
          "data": {
            "text/plain": [
              "False"
            ]
          },
          "metadata": {},
          "execution_count": 24
        }
      ]
    },
    {
      "cell_type": "code",
      "source": [
        "a = True\n",
        "b = False\n",
        "c = True"
      ],
      "metadata": {
        "id": "klMphVZy-27Z"
      },
      "execution_count": null,
      "outputs": []
    },
    {
      "cell_type": "code",
      "source": [
        "a == b"
      ],
      "metadata": {
        "colab": {
          "base_uri": "https://localhost:8080/"
        },
        "id": "Wm5VsTz1_Ls5",
        "outputId": "bb54955e-3040-4c6e-c859-70792c426c67"
      },
      "execution_count": null,
      "outputs": [
        {
          "output_type": "execute_result",
          "data": {
            "text/plain": [
              "False"
            ]
          },
          "metadata": {},
          "execution_count": 26
        }
      ]
    },
    {
      "cell_type": "code",
      "source": [
        "a or b"
      ],
      "metadata": {
        "colab": {
          "base_uri": "https://localhost:8080/"
        },
        "id": "08D-57UV_NE5",
        "outputId": "74cf8558-a1a8-466f-97f8-3b40c8bb8abf"
      },
      "execution_count": null,
      "outputs": [
        {
          "output_type": "execute_result",
          "data": {
            "text/plain": [
              "True"
            ]
          },
          "metadata": {},
          "execution_count": 27
        }
      ]
    },
    {
      "cell_type": "code",
      "source": [
        "a and b"
      ],
      "metadata": {
        "colab": {
          "base_uri": "https://localhost:8080/"
        },
        "id": "hrJl3e34_O04",
        "outputId": "4be00ab8-1152-46e0-bfab-0f1dcdba692a"
      },
      "execution_count": null,
      "outputs": [
        {
          "output_type": "execute_result",
          "data": {
            "text/plain": [
              "False"
            ]
          },
          "metadata": {},
          "execution_count": 28
        }
      ]
    },
    {
      "cell_type": "code",
      "source": [
        "a or b and c"
      ],
      "metadata": {
        "colab": {
          "base_uri": "https://localhost:8080/"
        },
        "id": "gGGFG1wy_P3J",
        "outputId": "3293499b-f5eb-46e5-d70b-d23fa3700c4f"
      },
      "execution_count": null,
      "outputs": [
        {
          "output_type": "execute_result",
          "data": {
            "text/plain": [
              "True"
            ]
          },
          "metadata": {},
          "execution_count": 29
        }
      ]
    },
    {
      "cell_type": "code",
      "source": [
        "(a or b) and c"
      ],
      "metadata": {
        "colab": {
          "base_uri": "https://localhost:8080/"
        },
        "id": "RaL4XO2f_StY",
        "outputId": "076fe0ca-0aa1-4c42-e720-bdf2b91f2c97"
      },
      "execution_count": null,
      "outputs": [
        {
          "output_type": "execute_result",
          "data": {
            "text/plain": [
              "True"
            ]
          },
          "metadata": {},
          "execution_count": 30
        }
      ]
    },
    {
      "cell_type": "code",
      "source": [
        "not a or (b and c)"
      ],
      "metadata": {
        "colab": {
          "base_uri": "https://localhost:8080/"
        },
        "id": "6if0yu5E_UTJ",
        "outputId": "0645a7d4-0f8f-43dc-a7a6-e49b25958056"
      },
      "execution_count": null,
      "outputs": [
        {
          "output_type": "execute_result",
          "data": {
            "text/plain": [
              "False"
            ]
          },
          "metadata": {},
          "execution_count": 31
        }
      ]
    },
    {
      "cell_type": "code",
      "source": [
        "not a or not (b and c)"
      ],
      "metadata": {
        "colab": {
          "base_uri": "https://localhost:8080/"
        },
        "id": "e4ooTJ5U_YWJ",
        "outputId": "4ee5571e-d828-4d47-d5cf-44f2400de46f"
      },
      "execution_count": null,
      "outputs": [
        {
          "output_type": "execute_result",
          "data": {
            "text/plain": [
              "True"
            ]
          },
          "metadata": {},
          "execution_count": 32
        }
      ]
    },
    {
      "cell_type": "code",
      "source": [
        "not a and not (b and c)"
      ],
      "metadata": {
        "colab": {
          "base_uri": "https://localhost:8080/"
        },
        "id": "LXDKQQuB_cgZ",
        "outputId": "4fa5ad58-3620-48f3-db82-f23cf4448307"
      },
      "execution_count": null,
      "outputs": [
        {
          "output_type": "execute_result",
          "data": {
            "text/plain": [
              "False"
            ]
          },
          "metadata": {},
          "execution_count": 33
        }
      ]
    },
    {
      "cell_type": "code",
      "source": [
        "not a and not (b or c)"
      ],
      "metadata": {
        "colab": {
          "base_uri": "https://localhost:8080/"
        },
        "id": "Q_m-rR0-_gMZ",
        "outputId": "6cca1e8b-365c-4479-dc59-2ab1aa597654"
      },
      "execution_count": null,
      "outputs": [
        {
          "output_type": "execute_result",
          "data": {
            "text/plain": [
              "False"
            ]
          },
          "metadata": {},
          "execution_count": 34
        }
      ]
    },
    {
      "cell_type": "code",
      "source": [
        "zabs = [2, 9]\n",
        "zabs[0]"
      ],
      "metadata": {
        "id": "H4LsTjed_j2J",
        "colab": {
          "base_uri": "https://localhost:8080/"
        },
        "outputId": "29375340-06c5-41b6-9b0e-7b41cc14db56"
      },
      "execution_count": null,
      "outputs": [
        {
          "output_type": "execute_result",
          "data": {
            "text/plain": [
              "2"
            ]
          },
          "metadata": {},
          "execution_count": 1
        }
      ]
    },
    {
      "cell_type": "code",
      "source": [
        "2 9 8 2 7 6 2 5 4 2 3 2 2 1"
      ],
      "metadata": {
        "colab": {
          "base_uri": "https://localhost:8080/",
          "height": 194
        },
        "id": "BUtiP-iOPTIp",
        "outputId": "9de710d8-5a2d-44ec-c7e7-f330e4a1d06d"
      },
      "execution_count": null,
      "outputs": [
        {
          "output_type": "error",
          "ename": "IndexError",
          "evalue": "list assignment index out of range",
          "traceback": [
            "\u001b[0;31m---------------------------------------------------------------------------\u001b[0m",
            "\u001b[0;31mIndexError\u001b[0m                                Traceback (most recent call last)",
            "\u001b[0;32m<ipython-input-2-15ce5dca5f6e>\u001b[0m in \u001b[0;36m<cell line: 1>\u001b[0;34m()\u001b[0m\n\u001b[0;32m----> 1\u001b[0;31m \u001b[0mzabs\u001b[0m\u001b[0;34m[\u001b[0m\u001b[0;36m2\u001b[0m\u001b[0;34m]\u001b[0m \u001b[0;34m=\u001b[0m \u001b[0mabs\u001b[0m\u001b[0;34m(\u001b[0m\u001b[0mzabs\u001b[0m\u001b[0;34m[\u001b[0m\u001b[0;36m1\u001b[0m\u001b[0;34m]\u001b[0m \u001b[0;34m-\u001b[0m \u001b[0mzabs\u001b[0m\u001b[0;34m[\u001b[0m\u001b[0;36m0\u001b[0m\u001b[0;34m]\u001b[0m\u001b[0;34m)\u001b[0m\u001b[0;34m+\u001b[0m\u001b[0;36m1\u001b[0m\u001b[0;34m\u001b[0m\u001b[0;34m\u001b[0m\u001b[0m\n\u001b[0m\u001b[1;32m      2\u001b[0m \u001b[0mzabs\u001b[0m\u001b[0;34m\u001b[0m\u001b[0;34m\u001b[0m\u001b[0m\n",
            "\u001b[0;31mIndexError\u001b[0m: list assignment index out of range"
          ]
        }
      ]
    },
    {
      "cell_type": "code",
      "source": [
        "kinase_peptide = (\n",
        "                  \"PVWNETFVFNLKPGDVERRLSVEVWDWDRTSRNDFMGAMSFGVSELLK\"\n",
        "                  \"APVDGWYKLLNQEEGEYYNVPVADADNCSLLQKFEACNYPLELYERVR\"\n",
        "                  \"MGPSSSPIPSPSPSPTDPKRCFFGASPGRLHISDFSFLMRRRKGSFGK\"\n",
        "                  \"VMLAERRGSDELYAIKILKKDVIVQDDDVDCTLVEKRVLALGGRGPGG\"\n",
        "                  \"RPHFLTQLHSTFQTPDRLYFVMEYVTGGDLMYHIQQLGKFKEPHAAFY\"\n",
        "                  \"AAEIAIGLFFLHNQGIIYRDLKLDNVMLDAEGHIKITDFGMCKENVF\"\n",
        "                  )"
      ],
      "metadata": {
        "id": "PI7Hf9xJPfTh"
      },
      "execution_count": null,
      "outputs": []
    },
    {
      "cell_type": "code",
      "source": [
        "\"RKGSFRR\" in kinase_peptide"
      ],
      "metadata": {
        "colab": {
          "base_uri": "https://localhost:8080/"
        },
        "id": "tlYA0E_4W6da",
        "outputId": "fd07f225-7f90-4d61-de15-88a7d2bb1ebb"
      },
      "execution_count": null,
      "outputs": [
        {
          "output_type": "execute_result",
          "data": {
            "text/plain": [
              "False"
            ]
          },
          "metadata": {},
          "execution_count": 4
        }
      ]
    },
    {
      "cell_type": "code",
      "source": [
        "\"RRRSFRR\" in kinase_peptide"
      ],
      "metadata": {
        "colab": {
          "base_uri": "https://localhost:8080/"
        },
        "id": "-ULDZQ86XKdP",
        "outputId": "67cb6680-486b-4ac8-da25-7e197d1f4792"
      },
      "execution_count": null,
      "outputs": [
        {
          "output_type": "execute_result",
          "data": {
            "text/plain": [
              "False"
            ]
          },
          "metadata": {},
          "execution_count": 5
        }
      ]
    },
    {
      "cell_type": "code",
      "source": [
        "\"RRRKGSF\" in kinase_peptide"
      ],
      "metadata": {
        "colab": {
          "base_uri": "https://localhost:8080/"
        },
        "id": "9ZST-Zn-XOzx",
        "outputId": "745d53be-e932-41fd-bf03-eb1cde346401"
      },
      "execution_count": null,
      "outputs": [
        {
          "output_type": "execute_result",
          "data": {
            "text/plain": [
              "True"
            ]
          },
          "metadata": {},
          "execution_count": 6
        }
      ]
    },
    {
      "cell_type": "code",
      "source": [
        "if \"RRRKGSF\" in kinase_peptide:\n",
        "  print(\"PKC-garma\")\n",
        "else:\n",
        "  print(\"nada\")"
      ],
      "metadata": {
        "colab": {
          "base_uri": "https://localhost:8080/"
        },
        "id": "ZMykDLbBXUzQ",
        "outputId": "3ca657cb-d51d-4bbd-b09d-b138af5fe465"
      },
      "execution_count": null,
      "outputs": [
        {
          "output_type": "stream",
          "name": "stdout",
          "text": [
            "PKC-garma\n"
          ]
        }
      ]
    },
    {
      "cell_type": "code",
      "source": [
        "table = [5, 21, 5, -1]\n",
        "print(table.index(1))"
      ],
      "metadata": {
        "id": "7h_jvkgGXf8R",
        "colab": {
          "base_uri": "https://localhost:8080/",
          "height": 194
        },
        "outputId": "3a057573-1079-4ce6-a193-a77cc8f11d8d"
      },
      "execution_count": null,
      "outputs": [
        {
          "output_type": "error",
          "ename": "ValueError",
          "evalue": "1 is not in list",
          "traceback": [
            "\u001b[0;31m---------------------------------------------------------------------------\u001b[0m",
            "\u001b[0;31mValueError\u001b[0m                                Traceback (most recent call last)",
            "\u001b[0;32m<ipython-input-1-66e347293b03>\u001b[0m in \u001b[0;36m<cell line: 2>\u001b[0;34m()\u001b[0m\n\u001b[1;32m      1\u001b[0m \u001b[0mtable\u001b[0m \u001b[0;34m=\u001b[0m \u001b[0;34m[\u001b[0m\u001b[0;36m5\u001b[0m\u001b[0;34m,\u001b[0m \u001b[0;36m21\u001b[0m\u001b[0;34m,\u001b[0m \u001b[0;36m5\u001b[0m\u001b[0;34m,\u001b[0m \u001b[0;34m-\u001b[0m\u001b[0;36m1\u001b[0m\u001b[0;34m]\u001b[0m\u001b[0;34m\u001b[0m\u001b[0;34m\u001b[0m\u001b[0m\n\u001b[0;32m----> 2\u001b[0;31m \u001b[0mprint\u001b[0m\u001b[0;34m(\u001b[0m\u001b[0mtable\u001b[0m\u001b[0;34m.\u001b[0m\u001b[0mindex\u001b[0m\u001b[0;34m(\u001b[0m\u001b[0;36m1\u001b[0m\u001b[0;34m)\u001b[0m\u001b[0;34m)\u001b[0m\u001b[0;34m\u001b[0m\u001b[0;34m\u001b[0m\u001b[0m\n\u001b[0m",
            "\u001b[0;31mValueError\u001b[0m: 1 is not in list"
          ]
        }
      ]
    },
    {
      "cell_type": "code",
      "source": [
        "print(table.index(-1))"
      ],
      "metadata": {
        "colab": {
          "base_uri": "https://localhost:8080/"
        },
        "id": "-9p7LDIwpsCU",
        "outputId": "ccd37439-a2ac-457b-e3e4-2c7dc6a16653"
      },
      "execution_count": null,
      "outputs": [
        {
          "output_type": "stream",
          "name": "stdout",
          "text": [
            "3\n"
          ]
        }
      ]
    },
    {
      "cell_type": "code",
      "source": [
        "strand = ['A', 'C', 'G', 'G', 'C', 'M', 'T', 'A']\n"
      ],
      "metadata": {
        "id": "eLqAOHSrpxuC"
      },
      "execution_count": null,
      "outputs": []
    },
    {
      "cell_type": "code",
      "source": [
        "strand.remove('G')\n",
        "print(strand)"
      ],
      "metadata": {
        "id": "3fROS6KOD62A",
        "outputId": "7fba8a34-e2d4-44cb-fca4-2e8daaf70803",
        "colab": {
          "base_uri": "https://localhost:8080/"
        }
      },
      "execution_count": null,
      "outputs": [
        {
          "output_type": "stream",
          "name": "stdout",
          "text": [
            "['A', 'C', 'G', 'C', 'M', 'T', 'A']\n"
          ]
        }
      ]
    },
    {
      "cell_type": "code",
      "source": [
        "characters = ['1', '2', '3', '4']\n",
        "for index, value in enumerate(characters):\n",
        "  print(index * value)"
      ],
      "metadata": {
        "id": "h89SswIRD-kf",
        "colab": {
          "base_uri": "https://localhost:8080/"
        },
        "outputId": "029c337d-1ac2-4f09-c2ad-c65aff67e6c5"
      },
      "execution_count": null,
      "outputs": [
        {
          "output_type": "stream",
          "name": "stdout",
          "text": [
            "\n",
            "2\n",
            "33\n",
            "444\n"
          ]
        }
      ]
    },
    {
      "cell_type": "code",
      "source": [
        "number = float()\n",
        "while float(number)**2 < 10:\n",
        "  number = input('Enter a number: ')\n",
        "print(f'The original value is {number}, and its second power is {float(number)**2}')"
      ],
      "metadata": {
        "id": "CuG4ie0kMk_o",
        "colab": {
          "base_uri": "https://localhost:8080/"
        },
        "outputId": "0a5abf7f-d825-48d6-dfb6-82264aba0d21"
      },
      "execution_count": null,
      "outputs": [
        {
          "output_type": "stream",
          "name": "stdout",
          "text": [
            "Enter a number: 1\n",
            "Enter a number: 2\n",
            "Enter a number: 3\n",
            "Enter a number: 3.3\n",
            "The original value is 3.3, and its second power is 10.889999999999999\n"
          ]
        }
      ]
    },
    {
      "cell_type": "code",
      "source": [
        "sequence = list()\n",
        "start = 0\n",
        "step = 0.5\n",
        "stop = 10\n",
        "while start < 10:\n",
        "  sequence.append(start)\n",
        "  start += step\n",
        "print(sequence)"
      ],
      "metadata": {
        "colab": {
          "base_uri": "https://localhost:8080/"
        },
        "id": "w_M07yvlYmHI",
        "outputId": "d92c3ff4-825b-408a-b0bf-3ed7e357c622"
      },
      "execution_count": null,
      "outputs": [
        {
          "output_type": "stream",
          "name": "stdout",
          "text": [
            "[0, 0.5, 1.0, 1.5, 2.0, 2.5, 3.0, 3.5, 4.0, 4.5, 5.0, 5.5, 6.0, 6.5, 7.0, 7.5, 8.0, 8.5, 9.0, 9.5]\n"
          ]
        }
      ]
    },
    {
      "cell_type": "code",
      "source": [
        "numbers = [0, -2.1, 1.5, 3]\n",
        "sum = 0\n",
        "for i in numbers:\n",
        "  sum += i\n",
        "print(f'Sum of the numbers in the array is {sum}')"
      ],
      "metadata": {
        "colab": {
          "base_uri": "https://localhost:8080/"
        },
        "id": "6PXG9L0truc2",
        "outputId": "49387829-a1e8-4493-af7c-ea08dc29b609"
      },
      "execution_count": null,
      "outputs": [
        {
          "output_type": "stream",
          "name": "stdout",
          "text": [
            "Sum of the numbers in the array is 2.4\n"
          ]
        }
      ]
    },
    {
      "cell_type": "code",
      "source": [
        "numbers = [2, 1, 3]\n",
        "for i in numbers:\n",
        "  print(str(i)*i)"
      ],
      "metadata": {
        "colab": {
          "base_uri": "https://localhost:8080/"
        },
        "id": "l9wuirgiykSO",
        "outputId": "67976fc2-5d08-4a3b-e6ef-7cf3cbaa1ba7"
      },
      "execution_count": null,
      "outputs": [
        {
          "output_type": "stream",
          "name": "stdout",
          "text": [
            "22\n",
            "1\n",
            "333\n"
          ]
        }
      ]
    },
    {
      "cell_type": "code",
      "source": [
        "numbers = [7, 16, 0.3, 0, 15, -4, 5, 3, 15]\n",
        "num_sum = 0\n",
        "for i in numbers:\n",
        "  num_sum += i\n",
        "num_mean = num_sum/len(numbers)\n",
        "print(f'Mean: {num_mean}')\n",
        "num_var_sum = 0\n",
        "for j in numbers:\n",
        "  num_var_sum += (i-num_mean)**2\n",
        "num_var = num_var_sum/len(numbers)\n",
        "print(f'Variance: {num_var}')"
      ],
      "metadata": {
        "colab": {
          "base_uri": "https://localhost:8080/"
        },
        "id": "w3LUowTWy2Ce",
        "outputId": "ea2b870f-5390-4533-fdc0-72b40ca57279"
      },
      "execution_count": null,
      "outputs": [
        {
          "output_type": "stream",
          "name": "stdout",
          "text": [
            "Mean: 6.366666666666666\n",
            "Variance: 74.53444444444443\n"
          ]
        }
      ]
    },
    {
      "cell_type": "code",
      "source": [
        "for i in [0:len(numbers)]:\n",
        "  print(numbers[i])"
      ],
      "metadata": {
        "colab": {
          "base_uri": "https://localhost:8080/",
          "height": 106
        },
        "id": "XzTUF-xbzlKH",
        "outputId": "d259e189-48f8-4d07-b1ec-12305d932e9f"
      },
      "execution_count": null,
      "outputs": [
        {
          "output_type": "error",
          "ename": "SyntaxError",
          "evalue": "invalid syntax (<ipython-input-15-952bf93ebe3c>, line 1)",
          "traceback": [
            "\u001b[0;36m  File \u001b[0;32m\"<ipython-input-15-952bf93ebe3c>\"\u001b[0;36m, line \u001b[0;32m1\u001b[0m\n\u001b[0;31m    for i in [0:len(numbers)]:\u001b[0m\n\u001b[0m               ^\u001b[0m\n\u001b[0;31mSyntaxError\u001b[0m\u001b[0;31m:\u001b[0m invalid syntax\n"
          ]
        }
      ]
    },
    {
      "cell_type": "code",
      "source": [
        "rhodopsin = (\n",
        "'MNGTEGPNFYVPFSNATGVVRSPFEYPQYYLAEPWQFSMLAAYMFLLIVLGFPINFLTLYVTVQHKKLRTPLNYILL'\n",
        "'NLAVADLFMVLGGFTSTLYTSLHGYFVFGPTGCNLEGFFATLGGEIALWSLVVLAIERYVVVCKPMSNFRFGENHAI'\n",
        "'MGVAFTWVMALACAAPPLAGWSRYIPEGLQCSCGIDYYTLKPEVNNESFVIYMFVVHFTIPMIIIFFCYGQLVFTVK'\n",
        "'EAAAQQQESATTQKAEKEVTRMVIIMVIAFLICWVPYASVAFYIFTHQGSNFGPIFMTIPAFFAKSAAIYNPVIYIM'\n",
        "'MNKQFRNCMLTTICCGKNPLGDDEASATVSKTETSQVAPA'\n",
        ")"
      ],
      "metadata": {
        "id": "INTUdJxk0dze"
      },
      "execution_count": null,
      "outputs": []
    },
    {
      "cell_type": "code",
      "source": [
        "freqs = dict()\n",
        "for residue in rhodopsin:\n",
        "  # Does <residue> exist in <freqs>?\n",
        "  if residue in freqs:\n",
        "    # Increment by 1.\n",
        "    freqs[residue] += 1\n",
        "  else:\n",
        "    # Add <residue> to <freqs> with a value of 1.\n",
        "    freqs[residue] = 1\n",
        "print(freqs)"
      ],
      "metadata": {
        "colab": {
          "base_uri": "https://localhost:8080/"
        },
        "id": "PKZHLDn7lLe3",
        "outputId": "0857516d-5251-4823-9b99-3fa505ef10d4"
      },
      "execution_count": null,
      "outputs": [
        {
          "output_type": "stream",
          "name": "stdout",
          "text": [
            "{'M': 15, 'N': 16, 'G': 22, 'T': 24, 'E': 16, 'P': 20, 'F': 30, 'Y': 19, 'V': 30, 'S': 17, 'A': 32, 'R': 7, 'Q': 12, 'L': 29, 'W': 5, 'I': 24, 'H': 5, 'K': 11, 'D': 4, 'C': 10}\n"
          ]
        }
      ]
    },
    {
      "cell_type": "code",
      "source": [
        "from statistics import median, mean, stdev\n",
        "rhodopsin_stats = {\n",
        "  'Length': len(rhodopsin),\n",
        "  'Max': max(freqs.values()),\n",
        "  'Min': min(freqs.values()),\n",
        "  'Median': median(freqs.values()),\n",
        "  'Mean': mean(freqs.values()),\n",
        "  'Standard Deviation': stdev(freqs.values())\n",
        "}"
      ],
      "metadata": {
        "id": "t8lcm1MnlZbm"
      },
      "execution_count": null,
      "outputs": []
    },
    {
      "cell_type": "code",
      "source": [
        "for stat_name, stat_value in rhodopsin_stats.items():\n",
        "  rounded_value = round(stat_value, 2)\n",
        "  print(stat_name, rounded_value, sep=': ')"
      ],
      "metadata": {
        "colab": {
          "base_uri": "https://localhost:8080/"
        },
        "id": "gMVGBan_lrNI",
        "outputId": "310d2cac-7010-4db3-a2b4-7b3736125109"
      },
      "execution_count": null,
      "outputs": [
        {
          "output_type": "stream",
          "name": "stdout",
          "text": [
            "Length: 348\n",
            "Max: 32\n",
            "Min: 4\n",
            "Median: 16.5\n",
            "Mean: 17.4\n",
            "Standard Deviation: 8.92\n"
          ]
        }
      ]
    },
    {
      "cell_type": "code",
      "source": [
        "qualities = {\n",
        "  ('R', 'H', 'K'): 'Charged (+)',\n",
        "  ('D', 'E'): 'Charged (-)',\n",
        "  ('S', 'T', 'N', 'Q'): 'Polar',\n",
        "  ('V', 'I', 'L', 'M', 'F', 'Y', 'W'): 'Hydrophobic',\n",
        "  ('S', 'T', 'H', 'N', 'Q', 'E', 'D', 'K', 'R'): 'Hydrophilic',\n",
        "  ('S', 'G', 'A', 'P'): 'Small',\n",
        "  ('F', 'W', 'Y', 'H'): 'Aromatic',\n",
        "  ('V', 'I', 'L', 'M'): 'Aliphatic',\n",
        "  ('C', 'G', 'P'): 'Special',\n",
        "}\n"
      ],
      "metadata": {
        "id": "_FmoUx8DlwT2"
      },
      "execution_count": null,
      "outputs": []
    },
    {
      "cell_type": "code",
      "source": [
        "analysis = list()\n",
        "\n",
        "# Iterating through <freqs> items:\n",
        "for residue_name, residue_count in freqs.items():\n",
        "  # Calculating the ratio:\n",
        "  ratio = residue_count / rhodopsin_stats['Length']\n",
        "  # Constructing a new dictionary for the current residue:\n",
        "  info = {\n",
        "      'amino acid': residue_name,\n",
        "      'count': residue_count,\n",
        "      'qualities': list(),\n",
        "      'ratio': round(ratio, 2) # Rounded to 2 decimal places.\n",
        "  }\n",
        "\n",
        "  # Iterating through <qualities> keys:\n",
        "  # Note: each key represents a tuple of amino acids.\n",
        "  for group in qualities:\n",
        "    # Does the current residue exist in group ?\n",
        "    if residue_name in group:\n",
        "      # Add the associating quality to the list of qualities for this residue (under info):\n",
        "      info['qualities'].append(qualities[group])\n",
        "  # Append <info> to <analysis>, which is a list of dicts.\n",
        "  # Each <info> represents the info for one residue:\n",
        "  analysis.append(info)\n"
      ],
      "metadata": {
        "id": "khpSuXTTl6JX"
      },
      "execution_count": null,
      "outputs": []
    },
    {
      "cell_type": "code",
      "source": [
        "print(len(analysis))"
      ],
      "metadata": {
        "colab": {
          "base_uri": "https://localhost:8080/"
        },
        "id": "9yVABCs9l9n2",
        "outputId": "ea305783-2e5b-4d4e-92a4-81ea8bc3db0f"
      },
      "execution_count": null,
      "outputs": [
        {
          "output_type": "stream",
          "name": "stdout",
          "text": [
            "20\n"
          ]
        }
      ]
    },
    {
      "cell_type": "code",
      "source": [
        "print(analysis[:2])"
      ],
      "metadata": {
        "colab": {
          "base_uri": "https://localhost:8080/"
        },
        "id": "WB9T6GFunqK2",
        "outputId": "ef3dc428-3213-42f1-ba3a-111ec8088be5"
      },
      "execution_count": null,
      "outputs": [
        {
          "output_type": "stream",
          "name": "stdout",
          "text": [
            "[{'amino acid': 'M', 'count': 15, 'qualities': ['Hydrophobic', 'Aliphatic'], 'ratio': 0.04}, {'amino acid': 'N', 'count': 16, 'qualities': ['Polar', 'Hydrophilic'], 'ratio': 0.05}]\n"
          ]
        }
      ]
    },
    {
      "cell_type": "code",
      "source": [
        "pip install tabulate"
      ],
      "metadata": {
        "colab": {
          "base_uri": "https://localhost:8080/"
        },
        "id": "RxQtUU8IntHm",
        "outputId": "4dbe524e-6edc-4457-ab9b-11a02ace6e06"
      },
      "execution_count": null,
      "outputs": [
        {
          "output_type": "stream",
          "name": "stdout",
          "text": [
            "Requirement already satisfied: tabulate in /usr/local/lib/python3.10/dist-packages (0.9.0)\n"
          ]
        }
      ]
    },
    {
      "cell_type": "code",
      "source": [
        "from tabulate import tabulate\n",
        "table = tabulate(analysis, headers='keys')\n",
        "print(table)"
      ],
      "metadata": {
        "colab": {
          "base_uri": "https://localhost:8080/"
        },
        "id": "_2bYSD4An6L3",
        "outputId": "63311609-c7e7-43d1-b4b9-1375f3f849b2"
      },
      "execution_count": null,
      "outputs": [
        {
          "output_type": "stream",
          "name": "stdout",
          "text": [
            "amino acid      count  qualities                                     ratio\n",
            "------------  -------  ------------------------------------------  -------\n",
            "M                  15  ['Hydrophobic', 'Aliphatic']                   0.04\n",
            "N                  16  ['Polar', 'Hydrophilic']                       0.05\n",
            "G                  22  ['Small', 'Special']                           0.06\n",
            "T                  24  ['Polar', 'Hydrophilic']                       0.07\n",
            "E                  16  ['Charged (-)', 'Hydrophilic']                 0.05\n",
            "P                  20  ['Small', 'Special']                           0.06\n",
            "F                  30  ['Hydrophobic', 'Aromatic']                    0.09\n",
            "Y                  19  ['Hydrophobic', 'Aromatic']                    0.05\n",
            "V                  30  ['Hydrophobic', 'Aliphatic']                   0.09\n",
            "S                  17  ['Polar', 'Hydrophilic', 'Small']              0.05\n",
            "A                  32  ['Small']                                      0.09\n",
            "R                   7  ['Charged (+)', 'Hydrophilic']                 0.02\n",
            "Q                  12  ['Polar', 'Hydrophilic']                       0.03\n",
            "L                  29  ['Hydrophobic', 'Aliphatic']                   0.08\n",
            "W                   5  ['Hydrophobic', 'Aromatic']                    0.01\n",
            "I                  24  ['Hydrophobic', 'Aliphatic']                   0.07\n",
            "H                   5  ['Charged (+)', 'Hydrophilic', 'Aromatic']     0.01\n",
            "K                  11  ['Charged (+)', 'Hydrophilic']                 0.03\n",
            "D                   4  ['Charged (-)', 'Hydrophilic']                 0.01\n",
            "C                  10  ['Special']                                    0.03\n"
          ]
        }
      ]
    },
    {
      "cell_type": "code",
      "source": [
        "# What's the frequencies of each quality?\n",
        "quality_stats = dict()\n",
        "# Each <info> represents a <dict>:\n",
        "for info in analysis:\n",
        "  # Each info['qualities'] is a list of qualities,\n",
        "  # so we need to iterate through them one by one:\n",
        "  for quality in info['qualities']:\n",
        "  # Does this particular <quality> already exist in <quality_stats>?\n",
        "    if quality in quality_stats:\n",
        "      # Add <count> for this residue to the existing value:\n",
        "      quality_stats[quality] += info['count']\n",
        "    else:\n",
        "      # Add this <quality> as a new key to <quality_stats>,\n",
        "      # and set <count> for this residue as its value:\n",
        "      quality_stats[quality] = info['count']"
      ],
      "metadata": {
        "id": "CeUJDahHoBpH"
      },
      "execution_count": null,
      "outputs": []
    },
    {
      "cell_type": "code",
      "source": [
        "print(quality_stats)"
      ],
      "metadata": {
        "id": "wPAebe0xq9y4",
        "outputId": "2dae2fd6-5971-4e4b-bb49-564a152533c6",
        "colab": {
          "base_uri": "https://localhost:8080/"
        }
      },
      "execution_count": null,
      "outputs": [
        {
          "output_type": "stream",
          "name": "stdout",
          "text": [
            "{'Hydrophobic': 152, 'Aliphatic': 98, 'Polar': 69, 'Hydrophilic': 112, 'Small': 91, 'Special': 52, 'Charged (-)': 20, 'Aromatic': 59, 'Charged (+)': 23}\n"
          ]
        }
      ]
    },
    {
      "cell_type": "code",
      "source": [
        "sequences = [\n",
        "              'ACTCTTCGTTCGGCC',\n",
        "              'ACTCTTCGTTCGGCC',\n",
        "              'ACTCTTCGTTCGGCC',\n",
        "              'ACTCTTCGTTCGGCC',\n",
        "              'ACTCTTCGTTCGGCC',\n",
        "              'ACTCTTCGTTCGGCC'\n",
        "]\n",
        "len(sequences)"
      ],
      "metadata": {
        "id": "EhFZo9EXq_qH",
        "colab": {
          "base_uri": "https://localhost:8080/"
        },
        "outputId": "f2093a1b-7fd2-4a89-d582-9254e4233b0a"
      },
      "execution_count": null,
      "outputs": [
        {
          "output_type": "execute_result",
          "data": {
            "text/plain": [
              "6"
            ]
          },
          "metadata": {},
          "execution_count": 1
        }
      ]
    },
    {
      "cell_type": "code",
      "source": [
        "new_sequence = set(sequences)\n",
        "new_sequence"
      ],
      "metadata": {
        "colab": {
          "base_uri": "https://localhost:8080/"
        },
        "id": "lZVZMk6Oqz_y",
        "outputId": "9a092618-e67a-4dc5-9be2-7ae3fa946aed"
      },
      "execution_count": null,
      "outputs": [
        {
          "output_type": "execute_result",
          "data": {
            "text/plain": [
              "{'ACTCTTCGTTCGGCC'}"
            ]
          },
          "metadata": {},
          "execution_count": 3
        }
      ]
    },
    {
      "cell_type": "code",
      "source": [
        "type(new_sequence)"
      ],
      "metadata": {
        "colab": {
          "base_uri": "https://localhost:8080/"
        },
        "id": "GenBMZ1Lr-7S",
        "outputId": "06fc18a2-e942-4329-bcb2-6db18b3c8446"
      },
      "execution_count": null,
      "outputs": [
        {
          "output_type": "execute_result",
          "data": {
            "text/plain": [
              "set"
            ]
          },
          "metadata": {},
          "execution_count": 4
        }
      ]
    },
    {
      "cell_type": "code",
      "source": [
        "dna_sequence = (\n",
        "    'ATGTCTAAAGGTGAAGAATTATTCACTGGTGTTGTCCCAATTTTGGTTGAATTAGATGGTGATGTTAATGGT'\n",
        "    'CACAAATTTTCTGTCTCCGGTGAAGGTGAAGGTGATGCTACTTACGGTAAATTGACCTTAAAATTTATTTGT'\n",
        "    'ACTACTGGTAAATTGCCAGTTCCATGGCCAACCTTAGTCACTACTTTCGGTTATGGTGTTCAATGTTTTGCT'\n",
        "    'AGATACCCAGATCATATGAAACAACATGACTTTTTCAAGTCTGCCATGCCAGAAGGTTATGTTCAAGAAAGA'\n",
        "    'ACTATTTTTTTCAAAGATGACGGTAACTACAAGACCAGAGCTGAAGTCAAGTTTGAAGGTGATACCTTAGTT'\n",
        "    'AATAGAATCGAATTAAAAGGTATTGATTTTAAAGAAGATGGTAACATTTTAGGTCACAAATTGGAATACAAC'\n",
        "    'TATAACTCTCACAATGTTTACATCATGGCTGACAAACAAAAGAATGGTATCAAAGTTAACTTCAAAATTAGA'\n",
        "    'CACAACATTGAAGATGGTTCTGTTCAATTAGCTGACCATTATCAACAAAATACTCCAATTGGTGATGGTCCA'\n",
        "    'GTCTTGTTACCAGACAACCATTACTTATCCACTCAATCTGCCTTATCCAAAGATCCAAACGAAAAGAGAGAC'\n",
        "    'CACATGGTCTTGTTAGAATTTGTTACTGCTGCTGGTATTACCCATGGTATGGATGAATTGTACAAATAA'\n",
        ")"
      ],
      "metadata": {
        "id": "tkrvsJk4sgRx"
      },
      "execution_count": null,
      "outputs": []
    },
    {
      "cell_type": "code",
      "source": [
        "mrna_sequence = ''\n",
        "for i in dna_sequence:\n",
        "  if i != 'T':\n",
        "    mrna_sequence = mrna_sequence + i\n",
        "  else:\n",
        "    mrna_sequence = mrna_sequence + 'U'"
      ],
      "metadata": {
        "id": "9O9vdJFquAIx"
      },
      "execution_count": null,
      "outputs": []
    },
    {
      "cell_type": "code",
      "source": [
        "mrna_sequence"
      ],
      "metadata": {
        "colab": {
          "base_uri": "https://localhost:8080/",
          "height": 87
        },
        "id": "w2G9l3TvuBCR",
        "outputId": "d2099c32-04b0-47af-a865-1048658ab56f"
      },
      "execution_count": null,
      "outputs": [
        {
          "output_type": "execute_result",
          "data": {
            "text/plain": [
              "'AUGUCUAAAGGUGAAGAAUUAUUCACUGGUGUUGUCCCAAUUUUGGUUGAAUUAGAUGGUGAUGUUAAUGGUCACAAAUUUUCUGUCUCCGGUGAAGGUGAAGGUGAUGCUACUUACGGUAAAUUGACCUUAAAAUUUAUUUGUACUACUGGUAAAUUGCCAGUUCCAUGGCCAACCUUAGUCACUACUUUCGGUUAUGGUGUUCAAUGUUUUGCUAGAUACCCAGAUCAUAUGAAACAACAUGACUUUUUCAAGUCUGCCAUGCCAGAAGGUUAUGUUCAAGAAAGAACUAUUUUUUUCAAAGAUGACGGUAACUACAAGACCAGAGCUGAAGUCAAGUUUGAAGGUGAUACCUUAGUUAAUAGAAUCGAAUUAAAAGGUAUUGAUUUUAAAGAAGAUGGUAACAUUUUAGGUCACAAAUUGGAAUACAACUAUAACUCUCACAAUGUUUACAUCAUGGCUGACAAACAAAAGAAUGGUAUCAAAGUUAACUUCAAAAUUAGACACAACAUUGAAGAUGGUUCUGUUCAAUUAGCUGACCAUUAUCAACAAAAUACUCCAAUUGGUGAUGGUCCAGUCUUGUUACCAGACAACCAUUACUUAUCCACUCAAUCUGCCUUAUCCAAAGAUCCAAACGAAAAGAGAGACCACAUGGUCUUGUUAGAAUUUGUUACUGCUGCUGGUAUUACCCAUGGUAUGGAUGAAUUGUACAAAUAA'"
            ],
            "application/vnd.google.colaboratory.intrinsic+json": {
              "type": "string"
            }
          },
          "metadata": {},
          "execution_count": 3
        }
      ]
    },
    {
      "cell_type": "code",
      "source": [
        "len(mrna_sequence)"
      ],
      "metadata": {
        "colab": {
          "base_uri": "https://localhost:8080/"
        },
        "id": "IsCMaySGviLi",
        "outputId": "609e791f-da03-4ecc-c521-c2898ffe2eda"
      },
      "execution_count": null,
      "outputs": [
        {
          "output_type": "execute_result",
          "data": {
            "text/plain": [
              "717"
            ]
          },
          "metadata": {},
          "execution_count": 4
        }
      ]
    },
    {
      "cell_type": "code",
      "source": [
        "# Cutting mrna strings by every 3 nucleotides\n",
        "mrna_groups = [mrna_sequence[i:i+3] for i in range(0, len(mrna_sequence), 3)]"
      ],
      "metadata": {
        "id": "V-w8NyOhwAsy"
      },
      "execution_count": null,
      "outputs": []
    },
    {
      "cell_type": "code",
      "source": [
        "mrna_groups"
      ],
      "metadata": {
        "colab": {
          "base_uri": "https://localhost:8080/"
        },
        "id": "6De17qKb0_4j",
        "outputId": "2802d227-b359-4007-b914-9acf8638c8f2"
      },
      "execution_count": null,
      "outputs": [
        {
          "output_type": "execute_result",
          "data": {
            "text/plain": [
              "['AUG',\n",
              " 'UCU',\n",
              " 'AAA',\n",
              " 'GGU',\n",
              " 'GAA',\n",
              " 'GAA',\n",
              " 'UUA',\n",
              " 'UUC',\n",
              " 'ACU',\n",
              " 'GGU',\n",
              " 'GUU',\n",
              " 'GUC',\n",
              " 'CCA',\n",
              " 'AUU',\n",
              " 'UUG',\n",
              " 'GUU',\n",
              " 'GAA',\n",
              " 'UUA',\n",
              " 'GAU',\n",
              " 'GGU',\n",
              " 'GAU',\n",
              " 'GUU',\n",
              " 'AAU',\n",
              " 'GGU',\n",
              " 'CAC',\n",
              " 'AAA',\n",
              " 'UUU',\n",
              " 'UCU',\n",
              " 'GUC',\n",
              " 'UCC',\n",
              " 'GGU',\n",
              " 'GAA',\n",
              " 'GGU',\n",
              " 'GAA',\n",
              " 'GGU',\n",
              " 'GAU',\n",
              " 'GCU',\n",
              " 'ACU',\n",
              " 'UAC',\n",
              " 'GGU',\n",
              " 'AAA',\n",
              " 'UUG',\n",
              " 'ACC',\n",
              " 'UUA',\n",
              " 'AAA',\n",
              " 'UUU',\n",
              " 'AUU',\n",
              " 'UGU',\n",
              " 'ACU',\n",
              " 'ACU',\n",
              " 'GGU',\n",
              " 'AAA',\n",
              " 'UUG',\n",
              " 'CCA',\n",
              " 'GUU',\n",
              " 'CCA',\n",
              " 'UGG',\n",
              " 'CCA',\n",
              " 'ACC',\n",
              " 'UUA',\n",
              " 'GUC',\n",
              " 'ACU',\n",
              " 'ACU',\n",
              " 'UUC',\n",
              " 'GGU',\n",
              " 'UAU',\n",
              " 'GGU',\n",
              " 'GUU',\n",
              " 'CAA',\n",
              " 'UGU',\n",
              " 'UUU',\n",
              " 'GCU',\n",
              " 'AGA',\n",
              " 'UAC',\n",
              " 'CCA',\n",
              " 'GAU',\n",
              " 'CAU',\n",
              " 'AUG',\n",
              " 'AAA',\n",
              " 'CAA',\n",
              " 'CAU',\n",
              " 'GAC',\n",
              " 'UUU',\n",
              " 'UUC',\n",
              " 'AAG',\n",
              " 'UCU',\n",
              " 'GCC',\n",
              " 'AUG',\n",
              " 'CCA',\n",
              " 'GAA',\n",
              " 'GGU',\n",
              " 'UAU',\n",
              " 'GUU',\n",
              " 'CAA',\n",
              " 'GAA',\n",
              " 'AGA',\n",
              " 'ACU',\n",
              " 'AUU',\n",
              " 'UUU',\n",
              " 'UUC',\n",
              " 'AAA',\n",
              " 'GAU',\n",
              " 'GAC',\n",
              " 'GGU',\n",
              " 'AAC',\n",
              " 'UAC',\n",
              " 'AAG',\n",
              " 'ACC',\n",
              " 'AGA',\n",
              " 'GCU',\n",
              " 'GAA',\n",
              " 'GUC',\n",
              " 'AAG',\n",
              " 'UUU',\n",
              " 'GAA',\n",
              " 'GGU',\n",
              " 'GAU',\n",
              " 'ACC',\n",
              " 'UUA',\n",
              " 'GUU',\n",
              " 'AAU',\n",
              " 'AGA',\n",
              " 'AUC',\n",
              " 'GAA',\n",
              " 'UUA',\n",
              " 'AAA',\n",
              " 'GGU',\n",
              " 'AUU',\n",
              " 'GAU',\n",
              " 'UUU',\n",
              " 'AAA',\n",
              " 'GAA',\n",
              " 'GAU',\n",
              " 'GGU',\n",
              " 'AAC',\n",
              " 'AUU',\n",
              " 'UUA',\n",
              " 'GGU',\n",
              " 'CAC',\n",
              " 'AAA',\n",
              " 'UUG',\n",
              " 'GAA',\n",
              " 'UAC',\n",
              " 'AAC',\n",
              " 'UAU',\n",
              " 'AAC',\n",
              " 'UCU',\n",
              " 'CAC',\n",
              " 'AAU',\n",
              " 'GUU',\n",
              " 'UAC',\n",
              " 'AUC',\n",
              " 'AUG',\n",
              " 'GCU',\n",
              " 'GAC',\n",
              " 'AAA',\n",
              " 'CAA',\n",
              " 'AAG',\n",
              " 'AAU',\n",
              " 'GGU',\n",
              " 'AUC',\n",
              " 'AAA',\n",
              " 'GUU',\n",
              " 'AAC',\n",
              " 'UUC',\n",
              " 'AAA',\n",
              " 'AUU',\n",
              " 'AGA',\n",
              " 'CAC',\n",
              " 'AAC',\n",
              " 'AUU',\n",
              " 'GAA',\n",
              " 'GAU',\n",
              " 'GGU',\n",
              " 'UCU',\n",
              " 'GUU',\n",
              " 'CAA',\n",
              " 'UUA',\n",
              " 'GCU',\n",
              " 'GAC',\n",
              " 'CAU',\n",
              " 'UAU',\n",
              " 'CAA',\n",
              " 'CAA',\n",
              " 'AAU',\n",
              " 'ACU',\n",
              " 'CCA',\n",
              " 'AUU',\n",
              " 'GGU',\n",
              " 'GAU',\n",
              " 'GGU',\n",
              " 'CCA',\n",
              " 'GUC',\n",
              " 'UUG',\n",
              " 'UUA',\n",
              " 'CCA',\n",
              " 'GAC',\n",
              " 'AAC',\n",
              " 'CAU',\n",
              " 'UAC',\n",
              " 'UUA',\n",
              " 'UCC',\n",
              " 'ACU',\n",
              " 'CAA',\n",
              " 'UCU',\n",
              " 'GCC',\n",
              " 'UUA',\n",
              " 'UCC',\n",
              " 'AAA',\n",
              " 'GAU',\n",
              " 'CCA',\n",
              " 'AAC',\n",
              " 'GAA',\n",
              " 'AAG',\n",
              " 'AGA',\n",
              " 'GAC',\n",
              " 'CAC',\n",
              " 'AUG',\n",
              " 'GUC',\n",
              " 'UUG',\n",
              " 'UUA',\n",
              " 'GAA',\n",
              " 'UUU',\n",
              " 'GUU',\n",
              " 'ACU',\n",
              " 'GCU',\n",
              " 'GCU',\n",
              " 'GGU',\n",
              " 'AUU',\n",
              " 'ACC',\n",
              " 'CAU',\n",
              " 'GGU',\n",
              " 'AUG',\n",
              " 'GAU',\n",
              " 'GAA',\n",
              " 'UUG',\n",
              " 'UAC',\n",
              " 'AAA',\n",
              " 'UAA']"
            ]
          },
          "metadata": {},
          "execution_count": 6
        }
      ]
    },
    {
      "cell_type": "code",
      "source": [
        "codon2aa = {\n",
        "  \"UUU\": \"F\", \"UUC\": \"F\", \"UUA\": \"L\", \"UUG\": \"L\", \"CUU\": \"L\",\n",
        "  \"CUC\": \"L\", \"CUA\": \"L\", \"CUG\": \"L\", \"AUU\": \"I\", \"AUC\": \"I\",\n",
        "  \"AUA\": \"I\", \"GUU\": \"V\", \"GUC\": \"V\", \"GUA\": \"V\", \"GUG\": \"V\",\n",
        "  \"UCU\": \"S\", \"UCC\": \"S\", \"UCA\": \"S\", \"UCG\": \"S\", \"AGU\": \"S\",\n",
        "  \"AGC\": \"S\", \"CCU\": \"P\", \"CCC\": \"P\", \"CCA\": \"P\", \"CCG\": \"P\",\n",
        "  \"ACU\": \"T\", \"ACC\": \"T\", \"ACA\": \"T\", \"ACG\": \"T\", \"GCU\": \"A\",\n",
        "  \"GCC\": \"A\", \"GCA\": \"A\", \"GCG\": \"A\", \"UAU\": \"Y\", \"UAC\": \"Y\",\n",
        "  \"CAU\": \"H\", \"CAC\": \"H\", \"CAA\": \"Q\", \"CAG\": \"Q\", \"AAU\": \"N\",\n",
        "  \"AAC\": \"N\", \"AAA\": \"K\", \"AAG\": \"K\", \"GAU\": \"D\", \"GAC\": \"D\",\n",
        "  \"GAA\": \"E\", \"GAG\": \"E\", \"UGU\": \"C\", \"UGC\": \"C\", \"UGG\": \"W\",\n",
        "  \"CGU\": \"R\", \"CGC\": \"R\", \"CGA\": \"R\", \"CGG\": \"R\", \"AGA\": \"R\",\n",
        "  \"AGG\": \"R\", \"GGU\": \"G\", \"GGC\": \"G\", \"GGA\": \"G\", \"GGG\": \"G\",\n",
        "  \"AUG\": \"<Met>\", \"UAA\": \"<STOP>\", \"UAG\": \"<STOP>\", \"UGA\": \"<STOP>\"\n",
        "}"
      ],
      "metadata": {
        "id": "L146Oxl31ROj"
      },
      "execution_count": null,
      "outputs": []
    },
    {
      "cell_type": "code",
      "source": [
        "mrna_translate = [codon2aa[mrna] for mrna in mrna_groups]\n",
        "mrna_translate"
      ],
      "metadata": {
        "colab": {
          "base_uri": "https://localhost:8080/"
        },
        "id": "4Zv3B-OEuHkI",
        "outputId": "dbd4d163-6ee6-4dfa-a355-820cffd6064f"
      },
      "execution_count": null,
      "outputs": [
        {
          "output_type": "execute_result",
          "data": {
            "text/plain": [
              "['<Met>',\n",
              " 'S',\n",
              " 'K',\n",
              " 'G',\n",
              " 'E',\n",
              " 'E',\n",
              " 'L',\n",
              " 'F',\n",
              " 'T',\n",
              " 'G',\n",
              " 'V',\n",
              " 'V',\n",
              " 'P',\n",
              " 'I',\n",
              " 'L',\n",
              " 'V',\n",
              " 'E',\n",
              " 'L',\n",
              " 'D',\n",
              " 'G',\n",
              " 'D',\n",
              " 'V',\n",
              " 'N',\n",
              " 'G',\n",
              " 'H',\n",
              " 'K',\n",
              " 'F',\n",
              " 'S',\n",
              " 'V',\n",
              " 'S',\n",
              " 'G',\n",
              " 'E',\n",
              " 'G',\n",
              " 'E',\n",
              " 'G',\n",
              " 'D',\n",
              " 'A',\n",
              " 'T',\n",
              " 'Y',\n",
              " 'G',\n",
              " 'K',\n",
              " 'L',\n",
              " 'T',\n",
              " 'L',\n",
              " 'K',\n",
              " 'F',\n",
              " 'I',\n",
              " 'C',\n",
              " 'T',\n",
              " 'T',\n",
              " 'G',\n",
              " 'K',\n",
              " 'L',\n",
              " 'P',\n",
              " 'V',\n",
              " 'P',\n",
              " 'W',\n",
              " 'P',\n",
              " 'T',\n",
              " 'L',\n",
              " 'V',\n",
              " 'T',\n",
              " 'T',\n",
              " 'F',\n",
              " 'G',\n",
              " 'Y',\n",
              " 'G',\n",
              " 'V',\n",
              " 'Q',\n",
              " 'C',\n",
              " 'F',\n",
              " 'A',\n",
              " 'R',\n",
              " 'Y',\n",
              " 'P',\n",
              " 'D',\n",
              " 'H',\n",
              " '<Met>',\n",
              " 'K',\n",
              " 'Q',\n",
              " 'H',\n",
              " 'D',\n",
              " 'F',\n",
              " 'F',\n",
              " 'K',\n",
              " 'S',\n",
              " 'A',\n",
              " '<Met>',\n",
              " 'P',\n",
              " 'E',\n",
              " 'G',\n",
              " 'Y',\n",
              " 'V',\n",
              " 'Q',\n",
              " 'E',\n",
              " 'R',\n",
              " 'T',\n",
              " 'I',\n",
              " 'F',\n",
              " 'F',\n",
              " 'K',\n",
              " 'D',\n",
              " 'D',\n",
              " 'G',\n",
              " 'N',\n",
              " 'Y',\n",
              " 'K',\n",
              " 'T',\n",
              " 'R',\n",
              " 'A',\n",
              " 'E',\n",
              " 'V',\n",
              " 'K',\n",
              " 'F',\n",
              " 'E',\n",
              " 'G',\n",
              " 'D',\n",
              " 'T',\n",
              " 'L',\n",
              " 'V',\n",
              " 'N',\n",
              " 'R',\n",
              " 'I',\n",
              " 'E',\n",
              " 'L',\n",
              " 'K',\n",
              " 'G',\n",
              " 'I',\n",
              " 'D',\n",
              " 'F',\n",
              " 'K',\n",
              " 'E',\n",
              " 'D',\n",
              " 'G',\n",
              " 'N',\n",
              " 'I',\n",
              " 'L',\n",
              " 'G',\n",
              " 'H',\n",
              " 'K',\n",
              " 'L',\n",
              " 'E',\n",
              " 'Y',\n",
              " 'N',\n",
              " 'Y',\n",
              " 'N',\n",
              " 'S',\n",
              " 'H',\n",
              " 'N',\n",
              " 'V',\n",
              " 'Y',\n",
              " 'I',\n",
              " '<Met>',\n",
              " 'A',\n",
              " 'D',\n",
              " 'K',\n",
              " 'Q',\n",
              " 'K',\n",
              " 'N',\n",
              " 'G',\n",
              " 'I',\n",
              " 'K',\n",
              " 'V',\n",
              " 'N',\n",
              " 'F',\n",
              " 'K',\n",
              " 'I',\n",
              " 'R',\n",
              " 'H',\n",
              " 'N',\n",
              " 'I',\n",
              " 'E',\n",
              " 'D',\n",
              " 'G',\n",
              " 'S',\n",
              " 'V',\n",
              " 'Q',\n",
              " 'L',\n",
              " 'A',\n",
              " 'D',\n",
              " 'H',\n",
              " 'Y',\n",
              " 'Q',\n",
              " 'Q',\n",
              " 'N',\n",
              " 'T',\n",
              " 'P',\n",
              " 'I',\n",
              " 'G',\n",
              " 'D',\n",
              " 'G',\n",
              " 'P',\n",
              " 'V',\n",
              " 'L',\n",
              " 'L',\n",
              " 'P',\n",
              " 'D',\n",
              " 'N',\n",
              " 'H',\n",
              " 'Y',\n",
              " 'L',\n",
              " 'S',\n",
              " 'T',\n",
              " 'Q',\n",
              " 'S',\n",
              " 'A',\n",
              " 'L',\n",
              " 'S',\n",
              " 'K',\n",
              " 'D',\n",
              " 'P',\n",
              " 'N',\n",
              " 'E',\n",
              " 'K',\n",
              " 'R',\n",
              " 'D',\n",
              " 'H',\n",
              " '<Met>',\n",
              " 'V',\n",
              " 'L',\n",
              " 'L',\n",
              " 'E',\n",
              " 'F',\n",
              " 'V',\n",
              " 'T',\n",
              " 'A',\n",
              " 'A',\n",
              " 'G',\n",
              " 'I',\n",
              " 'T',\n",
              " 'H',\n",
              " 'G',\n",
              " '<Met>',\n",
              " 'D',\n",
              " 'E',\n",
              " 'L',\n",
              " 'Y',\n",
              " 'K',\n",
              " '<STOP>']"
            ]
          },
          "metadata": {},
          "execution_count": 8
        }
      ]
    },
    {
      "cell_type": "code",
      "source": [
        "canonical = [\n",
        "  'Wnt', 'LPR5/6', 'Frizzled',\n",
        "  'Dsh', 'APC', 'Axin', 'GSK3',\n",
        "  'CK1', 'Beta-Cathenin'\n",
        "]\n",
        "\n",
        "noncanonical = [\n",
        "  'Wnt', 'Frizzled', 'Dsh',\n",
        "  'DAAM1', 'Profilin', 'Rho',\n",
        "  'ROCK'\n",
        "]"
      ],
      "metadata": {
        "id": "n-xGuhd9uW1X"
      },
      "execution_count": null,
      "outputs": []
    },
    {
      "cell_type": "code",
      "source": [
        "# What protein(s), if any, do the two pathways have in common?\n",
        "can_set = set(canonical)\n",
        "noncan_set = set(noncanonical)\n",
        "can_set.intersection(noncan_set)"
      ],
      "metadata": {
        "colab": {
          "base_uri": "https://localhost:8080/"
        },
        "id": "gufDBPERvFyX",
        "outputId": "5aedfa81-9f77-402b-e517-11ff0497eb4d"
      },
      "execution_count": null,
      "outputs": [
        {
          "output_type": "execute_result",
          "data": {
            "text/plain": [
              "{'Dsh', 'Frizzled', 'Wnt'}"
            ]
          },
          "metadata": {},
          "execution_count": 26
        }
      ]
    },
    {
      "cell_type": "code",
      "source": [
        "# Which proteins are unique to only one of the pathways (it is not important which pathway they belong to)?\n",
        "can_set.union(noncan_set) - can_set.intersection(noncan_set)"
      ],
      "metadata": {
        "colab": {
          "base_uri": "https://localhost:8080/"
        },
        "id": "c90YfYyWvQ03",
        "outputId": "182720ce-0a65-4f39-bd47-e4562a83e8c2"
      },
      "execution_count": null,
      "outputs": [
        {
          "output_type": "execute_result",
          "data": {
            "text/plain": [
              "{'APC',\n",
              " 'Axin',\n",
              " 'Beta-Cathenin',\n",
              " 'CK1',\n",
              " 'DAAM1',\n",
              " 'GSK3',\n",
              " 'LPR5/6',\n",
              " 'Profilin',\n",
              " 'ROCK',\n",
              " 'Rho'}"
            ]
          },
          "metadata": {},
          "execution_count": 31
        }
      ]
    },
    {
      "cell_type": "code",
      "source": [
        "# Is there a protein called \"APC\" in either collection (it is not important which one)?\n",
        "print(\"Is 'APC' canonical? \",\"APC\" in can_set)\n",
        "print(\"Is 'APC' noncanonical? \",\"APC\" in noncan_set)"
      ],
      "metadata": {
        "colab": {
          "base_uri": "https://localhost:8080/"
        },
        "id": "rdaevrFsvU9I",
        "outputId": "b61751e7-6a05-4650-8ab1-8125cb35b44c"
      },
      "execution_count": null,
      "outputs": [
        {
          "output_type": "stream",
          "name": "stdout",
          "text": [
            "Is 'APC' canonical?  True\n",
            "Is 'APC' noncanonical?  False\n"
          ]
        }
      ]
    },
    {
      "cell_type": "code",
      "source": [
        "# Provide a non-repetitive collection of the proteins involved in both pathways;\n",
        "# and ensure that the collection cannot be accidentally modified later.\n",
        "new_set = can_set.union(noncan_set)\n",
        "new_set"
      ],
      "metadata": {
        "colab": {
          "base_uri": "https://localhost:8080/"
        },
        "id": "pbNG7dpqwgdI",
        "outputId": "c9b6e4fd-5698-4259-e410-3e99cd4a658c"
      },
      "execution_count": null,
      "outputs": [
        {
          "output_type": "execute_result",
          "data": {
            "text/plain": [
              "{'APC',\n",
              " 'Axin',\n",
              " 'Beta-Cathenin',\n",
              " 'CK1',\n",
              " 'DAAM1',\n",
              " 'Dsh',\n",
              " 'Frizzled',\n",
              " 'GSK3',\n",
              " 'LPR5/6',\n",
              " 'Profilin',\n",
              " 'ROCK',\n",
              " 'Rho',\n",
              " 'Wnt'}"
            ]
          },
          "metadata": {},
          "execution_count": 36
        }
      ]
    },
    {
      "cell_type": "code",
      "source": [],
      "metadata": {
        "id": "lnQHYEG4xgMH"
      },
      "execution_count": null,
      "outputs": []
    }
  ]
}